{
 "cells": [
  {
   "cell_type": "markdown",
   "metadata": {},
   "source": [
    "## Home work 6"
   ]
  },
  {
   "cell_type": "markdown",
   "metadata": {},
   "source": [
    "## About the dataset.  \n",
    "- The dataset was generated using Monte Carlo simluations of the particle collisions that produce other particles and resulting decay products. The main objective is to separate particle-producing collisions from collisions that did not change background source.  \n",
    "- There are 28 features and > 1 million instances.  "
   ]
  },
  {
   "cell_type": "markdown",
   "metadata": {},
   "source": [
    "## Methods  \n",
    "- It is a classification task with 0 or 1 target response.  \n",
    "    - 1 = particle resulted from collision.  \n",
    "    - 0 = only background signal was received after collision.  \n",
    "- Below is a Tensorflow/Keras implementation of the problem.  \n",
    "- Please note that this training was done on a GPU with weights saved.\n",
    "    - Post-processing was done on a different computer. "
   ]
  },
  {
   "cell_type": "code",
   "execution_count": 19,
   "metadata": {},
   "outputs": [],
   "source": [
    "from sklearn.preprocessing import StandardScaler\n",
    "from sklearn.model_selection import train_test_split\n",
    "import pandas as pd\n",
    "import tensorflow as tf\n",
    "import keras\n",
    "import numpy as np\n"
   ]
  },
  {
   "cell_type": "code",
   "execution_count": null,
   "metadata": {},
   "outputs": [],
   "source": []
  },
  {
   "cell_type": "markdown",
   "metadata": {},
   "source": [
    "## Verify that Tensorflow can see the GPU"
   ]
  },
  {
   "cell_type": "code",
   "execution_count": 6,
   "metadata": {},
   "outputs": [
    {
     "name": "stdout",
     "output_type": "stream",
     "text": [
      "Num GPUs Available:  1\n"
     ]
    }
   ],
   "source": [
    "print(\"Num GPUs Available: \", len(tf.config.list_physical_devices('GPU')))"
   ]
  },
  {
   "cell_type": "code",
   "execution_count": 8,
   "metadata": {},
   "outputs": [
    {
     "data": {
      "text/plain": [
       "'C:\\\\Users\\\\John Olanipekun\\\\Documents\\\\Machine Learning\\\\SMU_Machine_Learning'"
      ]
     },
     "execution_count": 8,
     "metadata": {},
     "output_type": "execute_result"
    }
   ],
   "source": [
    "import os\n",
    "os.getcwd()"
   ]
  },
  {
   "cell_type": "markdown",
   "metadata": {},
   "source": [
    "## Read in the dataset.  \n",
    "- We will try if pandas can successfully read in the massive dataset before exploring Dask or PySpark. "
   ]
  },
  {
   "cell_type": "code",
   "execution_count": 11,
   "metadata": {},
   "outputs": [
    {
     "data": {
      "text/html": [
       "<div>\n",
       "<style scoped>\n",
       "    .dataframe tbody tr th:only-of-type {\n",
       "        vertical-align: middle;\n",
       "    }\n",
       "\n",
       "    .dataframe tbody tr th {\n",
       "        vertical-align: top;\n",
       "    }\n",
       "\n",
       "    .dataframe thead th {\n",
       "        text-align: right;\n",
       "    }\n",
       "</style>\n",
       "<table border=\"1\" class=\"dataframe\">\n",
       "  <thead>\n",
       "    <tr style=\"text-align: right;\">\n",
       "      <th></th>\n",
       "      <th># label</th>\n",
       "      <th>f0</th>\n",
       "      <th>f1</th>\n",
       "      <th>f2</th>\n",
       "      <th>f3</th>\n",
       "      <th>f4</th>\n",
       "      <th>f5</th>\n",
       "      <th>f6</th>\n",
       "      <th>f7</th>\n",
       "      <th>f8</th>\n",
       "      <th>...</th>\n",
       "      <th>f18</th>\n",
       "      <th>f19</th>\n",
       "      <th>f20</th>\n",
       "      <th>f21</th>\n",
       "      <th>f22</th>\n",
       "      <th>f23</th>\n",
       "      <th>f24</th>\n",
       "      <th>f25</th>\n",
       "      <th>f26</th>\n",
       "      <th>mass</th>\n",
       "    </tr>\n",
       "  </thead>\n",
       "  <tbody>\n",
       "    <tr>\n",
       "      <th>0</th>\n",
       "      <td>1.0</td>\n",
       "      <td>-0.346368</td>\n",
       "      <td>0.416306</td>\n",
       "      <td>0.999236</td>\n",
       "      <td>0.475342</td>\n",
       "      <td>0.427493</td>\n",
       "      <td>-0.005984</td>\n",
       "      <td>1.989833</td>\n",
       "      <td>0.344530</td>\n",
       "      <td>1.566297</td>\n",
       "      <td>...</td>\n",
       "      <td>4.105282</td>\n",
       "      <td>0.267826</td>\n",
       "      <td>0.378718</td>\n",
       "      <td>1.743123</td>\n",
       "      <td>3.406367</td>\n",
       "      <td>4.350537</td>\n",
       "      <td>-0.352571</td>\n",
       "      <td>1.130032</td>\n",
       "      <td>2.227706</td>\n",
       "      <td>1000.0</td>\n",
       "    </tr>\n",
       "    <tr>\n",
       "      <th>1</th>\n",
       "      <td>1.0</td>\n",
       "      <td>1.708236</td>\n",
       "      <td>-0.319394</td>\n",
       "      <td>-1.241873</td>\n",
       "      <td>-0.887231</td>\n",
       "      <td>-0.871906</td>\n",
       "      <td>-0.005984</td>\n",
       "      <td>-0.001047</td>\n",
       "      <td>-1.038225</td>\n",
       "      <td>0.655748</td>\n",
       "      <td>...</td>\n",
       "      <td>-1.178141</td>\n",
       "      <td>-0.877361</td>\n",
       "      <td>-1.483769</td>\n",
       "      <td>-0.573682</td>\n",
       "      <td>-1.693781</td>\n",
       "      <td>-0.545062</td>\n",
       "      <td>-0.299118</td>\n",
       "      <td>-0.662942</td>\n",
       "      <td>-0.193019</td>\n",
       "      <td>750.0</td>\n",
       "    </tr>\n",
       "    <tr>\n",
       "      <th>2</th>\n",
       "      <td>0.0</td>\n",
       "      <td>-0.360693</td>\n",
       "      <td>1.794174</td>\n",
       "      <td>0.264738</td>\n",
       "      <td>-0.472273</td>\n",
       "      <td>-0.292344</td>\n",
       "      <td>-1.054221</td>\n",
       "      <td>-1.150495</td>\n",
       "      <td>1.423404</td>\n",
       "      <td>1.270098</td>\n",
       "      <td>...</td>\n",
       "      <td>-1.199511</td>\n",
       "      <td>0.539020</td>\n",
       "      <td>-1.590629</td>\n",
       "      <td>-0.573682</td>\n",
       "      <td>-0.543636</td>\n",
       "      <td>-0.937456</td>\n",
       "      <td>-0.300344</td>\n",
       "      <td>-0.523262</td>\n",
       "      <td>-1.506304</td>\n",
       "      <td>750.0</td>\n",
       "    </tr>\n",
       "  </tbody>\n",
       "</table>\n",
       "<p>3 rows × 29 columns</p>\n",
       "</div>"
      ],
      "text/plain": [
       "   # label        f0        f1        f2        f3        f4        f5  \\\n",
       "0      1.0 -0.346368  0.416306  0.999236  0.475342  0.427493 -0.005984   \n",
       "1      1.0  1.708236 -0.319394 -1.241873 -0.887231 -0.871906 -0.005984   \n",
       "2      0.0 -0.360693  1.794174  0.264738 -0.472273 -0.292344 -1.054221   \n",
       "\n",
       "         f6        f7        f8  ...       f18       f19       f20       f21  \\\n",
       "0  1.989833  0.344530  1.566297  ...  4.105282  0.267826  0.378718  1.743123   \n",
       "1 -0.001047 -1.038225  0.655748  ... -1.178141 -0.877361 -1.483769 -0.573682   \n",
       "2 -1.150495  1.423404  1.270098  ... -1.199511  0.539020 -1.590629 -0.573682   \n",
       "\n",
       "        f22       f23       f24       f25       f26    mass  \n",
       "0  3.406367  4.350537 -0.352571  1.130032  2.227706  1000.0  \n",
       "1 -1.693781 -0.545062 -0.299118 -0.662942 -0.193019   750.0  \n",
       "2 -0.543636 -0.937456 -0.300344 -0.523262 -1.506304   750.0  \n",
       "\n",
       "[3 rows x 29 columns]"
      ]
     },
     "execution_count": 11,
     "metadata": {},
     "output_type": "execute_result"
    }
   ],
   "source": [
    "path = \"./all_train.csv\"\n",
    "# load the csv file as a dataframe\n",
    "df = pd.read_csv(path)\n",
    "# store the inputs and outputs\n",
    "df.head(n=3)\n",
    "#Train test split\n",
    "\n"
   ]
  },
  {
   "cell_type": "markdown",
   "metadata": {},
   "source": [
    "**EDA done on a different machine showed my that most of the features except 'mass' attribute was skewed.** \n",
    "- So we will scale the 'mass' attribute.  \n",
    "- The target response in this data is the 1st column.  \n",
    "- We will remove the '#' character in the label.  \n",
    "- I also observed and as was confirmed by the metadata, that the dataset does not suffer from class imbalance with respect to the target variable.  "
   ]
  },
  {
   "cell_type": "markdown",
   "metadata": {},
   "source": [
    "## Split.  \n",
    "- We have a big data so we can set aside validation set and test set.  \n",
    "- so we have 3-way split.  "
   ]
  },
  {
   "cell_type": "code",
   "execution_count": 57,
   "metadata": {
    "scrolled": true
   },
   "outputs": [
    {
     "name": "stderr",
     "output_type": "stream",
     "text": [
      "C:\\Users\\JOHNOL~1\\AppData\\Local\\Temp/ipykernel_2044/3114481359.py:6: SettingWithCopyWarning: \n",
      "A value is trying to be set on a copy of a slice from a DataFrame.\n",
      "Try using .loc[row_indexer,col_indexer] = value instead\n",
      "\n",
      "See the caveats in the documentation: https://pandas.pydata.org/pandas-docs/stable/user_guide/indexing.html#returning-a-view-versus-a-copy\n",
      "  train['mass'] = scaler.fit_transform(train['mass'].values.reshape(-1, 1))\n",
      "C:\\Users\\JOHNOL~1\\AppData\\Local\\Temp/ipykernel_2044/3114481359.py:7: SettingWithCopyWarning: \n",
      "A value is trying to be set on a copy of a slice from a DataFrame.\n",
      "Try using .loc[row_indexer,col_indexer] = value instead\n",
      "\n",
      "See the caveats in the documentation: https://pandas.pydata.org/pandas-docs/stable/user_guide/indexing.html#returning-a-view-versus-a-copy\n",
      "  test['mass'] = scaler.transform(test['mass'].values.reshape(-1, 1))\n",
      "C:\\Users\\JOHNOL~1\\AppData\\Local\\Temp/ipykernel_2044/3114481359.py:8: SettingWithCopyWarning: \n",
      "A value is trying to be set on a copy of a slice from a DataFrame.\n",
      "Try using .loc[row_indexer,col_indexer] = value instead\n",
      "\n",
      "See the caveats in the documentation: https://pandas.pydata.org/pandas-docs/stable/user_guide/indexing.html#returning-a-view-versus-a-copy\n",
      "  valid['mass'] = scaler.transform(valid['mass'].values.reshape(-1, 1))\n"
     ]
    }
   ],
   "source": [
    "#train, test = train_test_split(df1, test_size=0.3,random_state=42, stratify = df1['# label'])\n",
    "scaler = StandardScaler()\n",
    "#train, test, y_train_, y_test_ = train_test_split(df, df['# label'], test_size=0.30, random_state=200)\n",
    "train, remain, y_train_, y_remain = train_test_split(df, df['# label'], test_size=0.40, random_state=200)\n",
    "valid, test, y_valid, y_test_ = train_test_split(remain, remain['# label'], test_size=0.50, random_state=200)\n",
    "train['mass'] = scaler.fit_transform(train['mass'].values.reshape(-1, 1))\n",
    "test['mass'] = scaler.transform(test['mass'].values.reshape(-1, 1))  \n",
    "valid['mass'] = scaler.transform(valid['mass'].values.reshape(-1, 1))  \n",
    "train = train.drop(['# label'], axis=1)\n",
    "test = test.drop(['# label'], axis=1)\n",
    "valid = valid.drop(['# label'], axis=1)\n"
   ]
  },
  {
   "cell_type": "markdown",
   "metadata": {},
   "source": [
    "# The Model architecture, fit and prediction.  \n",
    "### Key hyperparameters.  \n",
    "- Reasonably large epoch size of 100 was chosen but will be checked by early stopping, to prevent overfit.    \n",
    "- Batch size is set to 2048 which is optimally large and is the favourable multiple of 32 bits.  \n",
    "- Call backs:\n",
    "    - I have two callbacks:\n",
    "        1. save the weights of the model training since I will be transferring the notebook to another computer.\n",
    "            - So I can use only the weight for prediction if I lose the current variables.\n",
    "       2. I have **EarlyStopping** criterion to halt training should there be no improvement to metric being monitored.  \n",
    "       - The stopping criterion is set to monitor validation accuracy.  \n",
    "       - This is because validation accuracy is better evaluation of the model performance on unseen test data set.  \n",
    "       - We want to maximize this accuracy so we set the 'mode' parameter to 'max'.  \n",
    "       - **patience** parameter is set to 10 to give the model room to train.  \n",
    "           - This indicates that wait at least 10 epochs before stopping the model training.  \n",
    "           \n",
    "- We set the learning rate to 0.03 arbitrarily.  \n",
    "- Adaptive moment estimation (Adam) is chosen as the optimization algorithm.  \n",
    "- It is quite popular because is one of the algorithms that compute gradient descent fast. \n",
    "       \n"
   ]
  },
  {
   "cell_type": "code",
   "execution_count": 59,
   "metadata": {},
   "outputs": [],
   "source": [
    "EPOCHS = 100\n",
    "BATCH_SIZE = 2048\n",
    "\n",
    "callbacks =[\n",
    "    keras.callbacks.ModelCheckpoint(\n",
    "        './weights.{epoch:02d}-{val_loss:.2f}.hdf5',\n",
    "        verbose=1), \n",
    "    tf.keras.callbacks.EarlyStopping(\n",
    "    monitor='val_accuracy', \n",
    "    verbose=1,\n",
    "    patience=10,\n",
    "    mode='max',\n",
    "    restore_best_weights=True)\n",
    "]"
   ]
  },
  {
   "cell_type": "markdown",
   "metadata": {},
   "source": [
    "### Model Architecture.  \n",
    "- We will be training on 3 hidden layers and 1 output layer.  \n",
    "- The output layer is set to output 1 value (0 or 1) because we are using binary classification.  \n",
    "- We expect the model to take as input, a minibatch of 2048 instances and 28 attibutes through its input layers and then pass its output to the 1st hidden layer.  \n",
    "- During this forward pass, the algorithm computes output for each neuron in the layer, which is then passed on to the next layer. \n",
    "- At the last layer, it will compute the output error for each training instance, and finds which neuron contributed how much to that error. \n",
    "- It will backpropagate these error back all the way to the 1 layer.  \n",
    "- It then updates the weights of each neuron based on the gradient computed during this revrse process. "
   ]
  },
  {
   "cell_type": "markdown",
   "metadata": {},
   "source": [
    "## Loss function.  \n",
    "- We choose binary_crossentropy because this task is binary classification.  \n",
    "- Correspondingly we chose the sigmoid activation rather than softmax because we want 0 or 1 value. While softmax is best suited for multiclass outputs.  "
   ]
  },
  {
   "cell_type": "code",
   "execution_count": 60,
   "metadata": {},
   "outputs": [
    {
     "name": "stderr",
     "output_type": "stream",
     "text": [
      "C:\\Users\\John Olanipekun\\AppData\\Roaming\\Python\\Python38\\site-packages\\tensorflow\\python\\keras\\optimizer_v2\\optimizer_v2.py:374: UserWarning: The `lr` argument is deprecated, use `learning_rate` instead.\n",
      "  warnings.warn(\n"
     ]
    },
    {
     "name": "stdout",
     "output_type": "stream",
     "text": [
      "Epoch 1/100\n",
      "2051/2051 [==============================] - 6s 3ms/step - loss: 0.3003 - accuracy: 0.8653 - precision: 0.8460 - recall: 0.8932 - val_loss: 0.2783 - val_accuracy: 0.8740 - val_precision: 0.8606 - val_recall: 0.8929\n",
      "\n",
      "Epoch 00001: saving model to .\\weights.01-0.28.hdf5\n",
      "Epoch 2/100\n",
      "2051/2051 [==============================] - 5s 3ms/step - loss: 0.2766 - accuracy: 0.8746 - precision: 0.8566 - recall: 0.8997 - val_loss: 0.2735 - val_accuracy: 0.8762 - val_precision: 0.8614 - val_recall: 0.8969\n",
      "\n",
      "Epoch 00002: saving model to .\\weights.02-0.27.hdf5\n",
      "Epoch 3/100\n",
      "2051/2051 [==============================] - 5s 3ms/step - loss: 0.2740 - accuracy: 0.8762 - precision: 0.8593 - recall: 0.8996 - val_loss: 0.2742 - val_accuracy: 0.8771 - val_precision: 0.8658 - val_recall: 0.8926\n",
      "\n",
      "Epoch 00003: saving model to .\\weights.03-0.27.hdf5\n",
      "Epoch 4/100\n",
      "2051/2051 [==============================] - 5s 3ms/step - loss: 0.2723 - accuracy: 0.8771 - precision: 0.8609 - recall: 0.8996 - val_loss: 0.2735 - val_accuracy: 0.8766 - val_precision: 0.8726 - val_recall: 0.8820\n",
      "\n",
      "Epoch 00004: saving model to .\\weights.04-0.27.hdf5\n",
      "Epoch 5/100\n",
      "2051/2051 [==============================] - 5s 3ms/step - loss: 0.2712 - accuracy: 0.8778 - precision: 0.8624 - recall: 0.8990 - val_loss: 0.2708 - val_accuracy: 0.8777 - val_precision: 0.8562 - val_recall: 0.9079\n",
      "\n",
      "Epoch 00005: saving model to .\\weights.05-0.27.hdf5\n",
      "Epoch 6/100\n",
      "2051/2051 [==============================] - 5s 3ms/step - loss: 0.2703 - accuracy: 0.8782 - precision: 0.8624 - recall: 0.9000 - val_loss: 0.2707 - val_accuracy: 0.8783 - val_precision: 0.8650 - val_recall: 0.8966\n",
      "\n",
      "Epoch 00006: saving model to .\\weights.06-0.27.hdf5\n",
      "Epoch 7/100\n",
      "2051/2051 [==============================] - 5s 3ms/step - loss: 0.2780 - accuracy: 0.8741 - precision: 0.8566 - recall: 0.8987 - val_loss: 0.2698 - val_accuracy: 0.8788 - val_precision: 0.8702 - val_recall: 0.8905\n",
      "\n",
      "Epoch 00007: saving model to .\\weights.07-0.27.hdf5\n",
      "Epoch 8/100\n",
      "2051/2051 [==============================] - 5s 3ms/step - loss: 0.2688 - accuracy: 0.8789 - precision: 0.8633 - recall: 0.9004 - val_loss: 0.2687 - val_accuracy: 0.8795 - val_precision: 0.8651 - val_recall: 0.8993\n",
      "\n",
      "Epoch 00008: saving model to .\\weights.08-0.27.hdf5\n",
      "Epoch 9/100\n",
      "2051/2051 [==============================] - 5s 3ms/step - loss: 0.2689 - accuracy: 0.8789 - precision: 0.8637 - recall: 0.8998 - val_loss: 0.2685 - val_accuracy: 0.8794 - val_precision: 0.8537 - val_recall: 0.9160\n",
      "\n",
      "Epoch 00009: saving model to .\\weights.09-0.27.hdf5\n",
      "Epoch 10/100\n",
      "2051/2051 [==============================] - 5s 3ms/step - loss: 0.2682 - accuracy: 0.8793 - precision: 0.8638 - recall: 0.9006 - val_loss: 0.2680 - val_accuracy: 0.8796 - val_precision: 0.8741 - val_recall: 0.8871\n",
      "\n",
      "Epoch 00010: saving model to .\\weights.10-0.27.hdf5\n",
      "Epoch 11/100\n",
      "2051/2051 [==============================] - 5s 3ms/step - loss: 0.2678 - accuracy: 0.8795 - precision: 0.8639 - recall: 0.9010 - val_loss: 0.2680 - val_accuracy: 0.8802 - val_precision: 0.8612 - val_recall: 0.9066\n",
      "\n",
      "Epoch 00011: saving model to .\\weights.11-0.27.hdf5\n",
      "Epoch 12/100\n",
      "2051/2051 [==============================] - 5s 3ms/step - loss: 0.2675 - accuracy: 0.8797 - precision: 0.8641 - recall: 0.9011 - val_loss: 0.2670 - val_accuracy: 0.8799 - val_precision: 0.8635 - val_recall: 0.9027\n",
      "\n",
      "Epoch 00012: saving model to .\\weights.12-0.27.hdf5\n",
      "Epoch 13/100\n",
      "2051/2051 [==============================] - 5s 3ms/step - loss: 0.2674 - accuracy: 0.8798 - precision: 0.8643 - recall: 0.9011 - val_loss: 0.2690 - val_accuracy: 0.8799 - val_precision: 0.8568 - val_recall: 0.9125\n",
      "\n",
      "Epoch 00013: saving model to .\\weights.13-0.27.hdf5\n",
      "Epoch 14/100\n",
      "2051/2051 [==============================] - 5s 3ms/step - loss: 0.2671 - accuracy: 0.8799 - precision: 0.8643 - recall: 0.9013 - val_loss: 0.2662 - val_accuracy: 0.8801 - val_precision: 0.8606 - val_recall: 0.9074\n",
      "\n",
      "Epoch 00014: saving model to .\\weights.14-0.27.hdf5\n",
      "Epoch 15/100\n",
      "2051/2051 [==============================] - 5s 3ms/step - loss: 0.2670 - accuracy: 0.8799 - precision: 0.8646 - recall: 0.9010 - val_loss: 0.2680 - val_accuracy: 0.8800 - val_precision: 0.8599 - val_recall: 0.9081\n",
      "\n",
      "Epoch 00015: saving model to .\\weights.15-0.27.hdf5\n",
      "Epoch 16/100\n",
      "2051/2051 [==============================] - 5s 3ms/step - loss: 0.2670 - accuracy: 0.8800 - precision: 0.8645 - recall: 0.9012 - val_loss: 0.2661 - val_accuracy: 0.8804 - val_precision: 0.8666 - val_recall: 0.8994\n",
      "\n",
      "Epoch 00016: saving model to .\\weights.16-0.27.hdf5\n",
      "Epoch 17/100\n",
      "2051/2051 [==============================] - 5s 3ms/step - loss: 0.2667 - accuracy: 0.8803 - precision: 0.8646 - recall: 0.9018 - val_loss: 0.2693 - val_accuracy: 0.8798 - val_precision: 0.8629 - val_recall: 0.9033\n",
      "\n",
      "Epoch 00017: saving model to .\\weights.17-0.27.hdf5\n",
      "Epoch 18/100\n",
      "2051/2051 [==============================] - 5s 3ms/step - loss: 0.2669 - accuracy: 0.8802 - precision: 0.8651 - recall: 0.9008 - val_loss: 0.2667 - val_accuracy: 0.8800 - val_precision: 0.8573 - val_recall: 0.9118\n",
      "\n",
      "Epoch 00018: saving model to .\\weights.18-0.27.hdf5\n",
      "Epoch 19/100\n",
      "2051/2051 [==============================] - 5s 3ms/step - loss: 0.2668 - accuracy: 0.8800 - precision: 0.8643 - recall: 0.9015 - val_loss: 0.2658 - val_accuracy: 0.8806 - val_precision: 0.8619 - val_recall: 0.9067\n",
      "\n",
      "Epoch 00019: saving model to .\\weights.19-0.27.hdf5\n",
      "Epoch 20/100\n",
      "2051/2051 [==============================] - 5s 3ms/step - loss: 0.2665 - accuracy: 0.8803 - precision: 0.8650 - recall: 0.9013 - val_loss: 0.2651 - val_accuracy: 0.8809 - val_precision: 0.8657 - val_recall: 0.9018\n",
      "\n",
      "Epoch 00020: saving model to .\\weights.20-0.27.hdf5\n",
      "Epoch 21/100\n",
      "2051/2051 [==============================] - 5s 3ms/step - loss: 0.2663 - accuracy: 0.8805 - precision: 0.8651 - recall: 0.9015 - val_loss: 0.2654 - val_accuracy: 0.8811 - val_precision: 0.8605 - val_recall: 0.9096\n",
      "\n",
      "Epoch 00021: saving model to .\\weights.21-0.27.hdf5\n",
      "Epoch 22/100\n",
      "2051/2051 [==============================] - 5s 3ms/step - loss: 0.2659 - accuracy: 0.8808 - precision: 0.8651 - recall: 0.9022 - val_loss: 0.2687 - val_accuracy: 0.8812 - val_precision: 0.8658 - val_recall: 0.9023\n",
      "\n",
      "Epoch 00022: saving model to .\\weights.22-0.27.hdf5\n",
      "Epoch 23/100\n",
      "2051/2051 [==============================] - 5s 3ms/step - loss: 0.2659 - accuracy: 0.8807 - precision: 0.8650 - recall: 0.9022 - val_loss: 0.2654 - val_accuracy: 0.8809 - val_precision: 0.8686 - val_recall: 0.8977\n",
      "\n",
      "Epoch 00023: saving model to .\\weights.23-0.27.hdf5\n",
      "Epoch 24/100\n",
      "2051/2051 [==============================] - 5s 3ms/step - loss: 0.2658 - accuracy: 0.8807 - precision: 0.8647 - recall: 0.9026 - val_loss: 0.2648 - val_accuracy: 0.8807 - val_precision: 0.8648 - val_recall: 0.9026\n",
      "\n",
      "Epoch 00024: saving model to .\\weights.24-0.26.hdf5\n",
      "Epoch 25/100\n",
      "2051/2051 [==============================] - 5s 3ms/step - loss: 0.2655 - accuracy: 0.8810 - precision: 0.8652 - recall: 0.9025 - val_loss: 0.2656 - val_accuracy: 0.8806 - val_precision: 0.8536 - val_recall: 0.9189\n",
      "\n",
      "Epoch 00025: saving model to .\\weights.25-0.27.hdf5\n",
      "Epoch 26/100\n",
      "2051/2051 [==============================] - 5s 3ms/step - loss: 0.2655 - accuracy: 0.8810 - precision: 0.8654 - recall: 0.9023 - val_loss: 0.2654 - val_accuracy: 0.8814 - val_precision: 0.8635 - val_recall: 0.9063\n",
      "\n",
      "Epoch 00026: saving model to .\\weights.26-0.27.hdf5\n",
      "Epoch 27/100\n",
      "2051/2051 [==============================] - 5s 3ms/step - loss: 0.2654 - accuracy: 0.8810 - precision: 0.8651 - recall: 0.9026 - val_loss: 0.2668 - val_accuracy: 0.8809 - val_precision: 0.8563 - val_recall: 0.9155\n",
      "\n",
      "Epoch 00027: saving model to .\\weights.27-0.27.hdf5\n",
      "Epoch 28/100\n",
      "2051/2051 [==============================] - 5s 3ms/step - loss: 0.2652 - accuracy: 0.8811 - precision: 0.8654 - recall: 0.9024 - val_loss: 0.2650 - val_accuracy: 0.8806 - val_precision: 0.8728 - val_recall: 0.8912\n",
      "\n",
      "Epoch 00028: saving model to .\\weights.28-0.27.hdf5\n",
      "Epoch 29/100\n",
      "2051/2051 [==============================] - 5s 3ms/step - loss: 0.2652 - accuracy: 0.8810 - precision: 0.8656 - recall: 0.9021 - val_loss: 0.2714 - val_accuracy: 0.8803 - val_precision: 0.8764 - val_recall: 0.8854\n",
      "\n",
      "Epoch 00029: saving model to .\\weights.29-0.27.hdf5\n",
      "Epoch 30/100\n",
      "2051/2051 [==============================] - 5s 3ms/step - loss: 0.2651 - accuracy: 0.8810 - precision: 0.8655 - recall: 0.9023 - val_loss: 0.2678 - val_accuracy: 0.8809 - val_precision: 0.8617 - val_recall: 0.9075\n",
      "\n",
      "Epoch 00030: saving model to .\\weights.30-0.27.hdf5\n",
      "Epoch 31/100\n",
      "2051/2051 [==============================] - 5s 3ms/step - loss: 0.2651 - accuracy: 0.8810 - precision: 0.8652 - recall: 0.9027 - val_loss: 0.2641 - val_accuracy: 0.8815 - val_precision: 0.8617 - val_recall: 0.9088\n",
      "\n",
      "Epoch 00031: saving model to .\\weights.31-0.26.hdf5\n",
      "Epoch 32/100\n",
      "2051/2051 [==============================] - 5s 3ms/step - loss: 0.2649 - accuracy: 0.8811 - precision: 0.8652 - recall: 0.9029 - val_loss: 0.2645 - val_accuracy: 0.8809 - val_precision: 0.8613 - val_recall: 0.9082\n",
      "\n",
      "Epoch 00032: saving model to .\\weights.32-0.26.hdf5\n",
      "Epoch 33/100\n",
      "2051/2051 [==============================] - 5s 3ms/step - loss: 0.2652 - accuracy: 0.8809 - precision: 0.8655 - recall: 0.9021 - val_loss: 0.2667 - val_accuracy: 0.8800 - val_precision: 0.8553 - val_recall: 0.9149\n",
      "\n",
      "Epoch 00033: saving model to .\\weights.33-0.27.hdf5\n",
      "Epoch 34/100\n",
      "2051/2051 [==============================] - 5s 3ms/step - loss: 0.2651 - accuracy: 0.8812 - precision: 0.8656 - recall: 0.9024 - val_loss: 0.2677 - val_accuracy: 0.8803 - val_precision: 0.8776 - val_recall: 0.8840\n",
      "\n",
      "Epoch 00034: saving model to .\\weights.34-0.27.hdf5\n",
      "Epoch 35/100\n",
      "2051/2051 [==============================] - 5s 3ms/step - loss: 0.2651 - accuracy: 0.8812 - precision: 0.8657 - recall: 0.9023 - val_loss: 0.2645 - val_accuracy: 0.8812 - val_precision: 0.8672 - val_recall: 0.9004\n",
      "\n",
      "Epoch 00035: saving model to .\\weights.35-0.26.hdf5\n",
      "Epoch 36/100\n",
      "2051/2051 [==============================] - 5s 3ms/step - loss: 0.2647 - accuracy: 0.8812 - precision: 0.8653 - recall: 0.9030 - val_loss: 0.2656 - val_accuracy: 0.8803 - val_precision: 0.8649 - val_recall: 0.9015\n",
      "\n",
      "Epoch 00036: saving model to .\\weights.36-0.27.hdf5\n",
      "Epoch 37/100\n",
      "2051/2051 [==============================] - 5s 3ms/step - loss: 0.2647 - accuracy: 0.8812 - precision: 0.8656 - recall: 0.9026 - val_loss: 0.2669 - val_accuracy: 0.8812 - val_precision: 0.8581 - val_recall: 0.9136\n",
      "\n",
      "Epoch 00037: saving model to .\\weights.37-0.27.hdf5\n",
      "Epoch 38/100\n",
      "2051/2051 [==============================] - 5s 3ms/step - loss: 0.2649 - accuracy: 0.8813 - precision: 0.8658 - recall: 0.9025 - val_loss: 0.2659 - val_accuracy: 0.8810 - val_precision: 0.8553 - val_recall: 0.9173\n",
      "\n",
      "Epoch 00038: saving model to .\\weights.38-0.27.hdf5\n",
      "Epoch 39/100\n",
      "2051/2051 [==============================] - 5s 3ms/step - loss: 0.2648 - accuracy: 0.8812 - precision: 0.8656 - recall: 0.9025 - val_loss: 0.2638 - val_accuracy: 0.8813 - val_precision: 0.8663 - val_recall: 0.9018\n",
      "\n",
      "Epoch 00039: saving model to .\\weights.39-0.26.hdf5\n",
      "Epoch 40/100\n",
      "2051/2051 [==============================] - 5s 3ms/step - loss: 0.2648 - accuracy: 0.8812 - precision: 0.8656 - recall: 0.9025 - val_loss: 0.2695 - val_accuracy: 0.8803 - val_precision: 0.8517 - val_recall: 0.9211\n",
      "\n",
      "Epoch 00040: saving model to .\\weights.40-0.27.hdf5\n",
      "Epoch 41/100\n",
      "2051/2051 [==============================] - 5s 3ms/step - loss: 0.2648 - accuracy: 0.8812 - precision: 0.8658 - recall: 0.9024 - val_loss: 0.2693 - val_accuracy: 0.8804 - val_precision: 0.8793 - val_recall: 0.8818\n",
      "\n",
      "Epoch 00041: saving model to .\\weights.41-0.27.hdf5\n",
      "Restoring model weights from the end of the best epoch.\n",
      "Epoch 00041: early stopping\n"
     ]
    }
   ],
   "source": [
    "tf.random.set_seed(42)\n",
    "\n",
    "\n",
    "model = tf.keras.Sequential([\n",
    "    tf.keras.layers.Dense(128, activation='relu'),\n",
    "    tf.keras.layers.Dense(256, activation='relu'),\n",
    "    tf.keras.layers.Dense(256, activation='relu'),\n",
    "    tf.keras.layers.Dense(1, activation='sigmoid')\n",
    "])\n",
    "\n",
    "model.compile(\n",
    "    loss=tf.keras.losses.binary_crossentropy,\n",
    "    optimizer=tf.keras.optimizers.Adam(lr=0.03),\n",
    "    metrics=[\n",
    "        tf.keras.metrics.BinaryAccuracy(name='accuracy'),\n",
    "        tf.keras.metrics.Precision(name='precision'),\n",
    "        tf.keras.metrics.Recall(name='recall')\n",
    "    ]\n",
    ")\n",
    "\n",
    "history = model.fit(train.values,\n",
    "                    y_train_.values,\n",
    "                    batch_size=BATCH_SIZE,\n",
    "                    epochs=EPOCHS, \n",
    "                    validation_data=(valid.values, y_valid.values), callbacks=callbacks\n",
    "                   )"
   ]
  },
  {
   "cell_type": "markdown",
   "metadata": {},
   "source": [
    "## Training history.  \n",
    "- We have 100 epochs.  \n",
    "- We want to minimize our loss function (binary cross entropy).  \n",
    "- We want to maximize our accuracy, precision and recall for the validation set.  \n",
    "    - These start from >80% and are increasing up to 41st epoch when the early stopping criterion condition halted the training because there was no significant improvement to validation accuracy after 10 epochs.  \n",
    "-  **Validation accuracy = 88%, precision=88%, recall = 88%**.  \n",
    "- We will see the performance of the model weights on the test set.\n",
    "  "
   ]
  },
  {
   "cell_type": "markdown",
   "metadata": {},
   "source": [
    "# Prediction.  \n",
    "- We predict on the test set with decision threshld set to 0.5. "
   ]
  },
  {
   "cell_type": "code",
   "execution_count": 64,
   "metadata": {},
   "outputs": [],
   "source": [
    "predictions = model.predict(test.values)"
   ]
  },
  {
   "cell_type": "code",
   "execution_count": 65,
   "metadata": {},
   "outputs": [],
   "source": [
    "prediction_classes = [\n",
    "    1 if prob > 0.5 else 0 for prob in np.ravel(predictions)\n",
    "]"
   ]
  },
  {
   "cell_type": "markdown",
   "metadata": {},
   "source": [
    "## Evaluation.  \n",
    "- The model produced very similar Accuracy, precision and recall values (88%, 86%, 91% respectfully) as we saw with the validation set during training. \n",
    "- Therefore, we can see that the model will be accurate in prediction if particle collision will form another particle or just background signal 88 % of the time.  "
   ]
  },
  {
   "cell_type": "code",
   "execution_count": 66,
   "metadata": {},
   "outputs": [
    {
     "name": "stdout",
     "output_type": "stream",
     "text": [
      "[[597304 101952]\n",
      " [ 63924 636820]]\n"
     ]
    }
   ],
   "source": [
    "from sklearn.metrics import confusion_matrix\n",
    "\n",
    "print(confusion_matrix(y_test_, prediction_classes))"
   ]
  },
  {
   "cell_type": "code",
   "execution_count": 67,
   "metadata": {},
   "outputs": [
    {
     "name": "stdout",
     "output_type": "stream",
     "text": [
      "Accuracy: 0.88\n",
      "Precision: 0.86\n",
      "Recall: 0.91\n"
     ]
    }
   ],
   "source": [
    "from sklearn.metrics import accuracy_score, precision_score, recall_score\n",
    "\n",
    "print(f'Accuracy: {accuracy_score(y_test_, prediction_classes):.2f}')\n",
    "print(f'Precision: {precision_score(y_test_, prediction_classes):.2f}')\n",
    "print(f'Recall: {recall_score(y_test_, prediction_classes):.2f}')"
   ]
  },
  {
   "cell_type": "markdown",
   "metadata": {},
   "source": [
    "## Backup the history.  \n",
    "-We store the training loss, accuracy, precision as history."
   ]
  },
  {
   "cell_type": "code",
   "execution_count": 74,
   "metadata": {},
   "outputs": [],
   "source": [
    "loss=history.history['loss']\n",
    "accuracy=history.history['accuracy']\n",
    "precision=history.history['precision']\n",
    "recall= history.history['recall']\n",
    "hist_dict={}\n",
    "hist_dict['loss']=loss\n",
    "hist_dict['accuracy']=accuracy\n",
    "hist_dict['precision']=precision\n",
    "hist_dict['recall']=recall\n"
   ]
  },
  {
   "cell_type": "code",
   "execution_count": 75,
   "metadata": {},
   "outputs": [
    {
     "data": {
      "text/plain": [
       "{'loss': [0.3002937138080597,\n",
       "  0.2766357660293579,\n",
       "  0.2739705443382263,\n",
       "  0.272262841463089,\n",
       "  0.2711673378944397,\n",
       "  0.2703096270561218,\n",
       "  0.27799054980278015,\n",
       "  0.2687784731388092,\n",
       "  0.26892217993736267,\n",
       "  0.26824745535850525,\n",
       "  0.2678259313106537,\n",
       "  0.26747849583625793,\n",
       "  0.26744091510772705,\n",
       "  0.2671263813972473,\n",
       "  0.2669764757156372,\n",
       "  0.2669505476951599,\n",
       "  0.26666656136512756,\n",
       "  0.2669451832771301,\n",
       "  0.26684674620628357,\n",
       "  0.26654812693595886,\n",
       "  0.26627352833747864,\n",
       "  0.26587343215942383,\n",
       "  0.2659132778644562,\n",
       "  0.2657637894153595,\n",
       "  0.2655166983604431,\n",
       "  0.2654632329940796,\n",
       "  0.2654375731945038,\n",
       "  0.26519742608070374,\n",
       "  0.2651599943637848,\n",
       "  0.26513949036598206,\n",
       "  0.2651105523109436,\n",
       "  0.2649342119693756,\n",
       "  0.265164852142334,\n",
       "  0.26505717635154724,\n",
       "  0.2651055157184601,\n",
       "  0.26471075415611267,\n",
       "  0.26474684476852417,\n",
       "  0.26493045687675476,\n",
       "  0.2648445665836334,\n",
       "  0.2647569477558136,\n",
       "  0.26484259963035583],\n",
       " 'accuracy': [0.865333080291748,\n",
       "  0.8745778799057007,\n",
       "  0.8761605024337769,\n",
       "  0.8771002292633057,\n",
       "  0.8778059482574463,\n",
       "  0.8781793117523193,\n",
       "  0.8741178512573242,\n",
       "  0.8789352178573608,\n",
       "  0.8789302110671997,\n",
       "  0.8792778849601746,\n",
       "  0.8795202374458313,\n",
       "  0.8797131180763245,\n",
       "  0.8797900080680847,\n",
       "  0.8798807263374329,\n",
       "  0.8799468874931335,\n",
       "  0.879999041557312,\n",
       "  0.8802750110626221,\n",
       "  0.8802078366279602,\n",
       "  0.8799802660942078,\n",
       "  0.8803368806838989,\n",
       "  0.8804616928100586,\n",
       "  0.8807899951934814,\n",
       "  0.8806873559951782,\n",
       "  0.8807119131088257,\n",
       "  0.8809573650360107,\n",
       "  0.8810240626335144,\n",
       "  0.8809630870819092,\n",
       "  0.8810528516769409,\n",
       "  0.8810368776321411,\n",
       "  0.8810328841209412,\n",
       "  0.8810116648674011,\n",
       "  0.8810988068580627,\n",
       "  0.8809359669685364,\n",
       "  0.8811666369438171,\n",
       "  0.8811600208282471,\n",
       "  0.8812268972396851,\n",
       "  0.8812447786331177,\n",
       "  0.8813128471374512,\n",
       "  0.8811802268028259,\n",
       "  0.881208598613739,\n",
       "  0.8812414407730103],\n",
       " 'precision': [0.8460310697555542,\n",
       "  0.8566490411758423,\n",
       "  0.8593307137489319,\n",
       "  0.8608666062355042,\n",
       "  0.8624094724655151,\n",
       "  0.8623570799827576,\n",
       "  0.8565852046012878,\n",
       "  0.8633193969726562,\n",
       "  0.8637336492538452,\n",
       "  0.863753080368042,\n",
       "  0.8638542890548706,\n",
       "  0.8641332983970642,\n",
       "  0.8642610907554626,\n",
       "  0.8642637729644775,\n",
       "  0.8646090030670166,\n",
       "  0.864542543888092,\n",
       "  0.8645913004875183,\n",
       "  0.865136444568634,\n",
       "  0.8642504215240479,\n",
       "  0.8650239706039429,\n",
       "  0.8651126623153687,\n",
       "  0.8651042580604553,\n",
       "  0.8649510145187378,\n",
       "  0.8647069931030273,\n",
       "  0.8651942014694214,\n",
       "  0.8654346466064453,\n",
       "  0.8651343584060669,\n",
       "  0.8654287457466125,\n",
       "  0.8656190037727356,\n",
       "  0.86545729637146,\n",
       "  0.8651835918426514,\n",
       "  0.8651804327964783,\n",
       "  0.8654546141624451,\n",
       "  0.86564040184021,\n",
       "  0.8656520843505859,\n",
       "  0.8653321862220764,\n",
       "  0.8656355142593384,\n",
       "  0.8657970428466797,\n",
       "  0.8655751347541809,\n",
       "  0.8656418919563293,\n",
       "  0.8657810091972351],\n",
       " 'recall': [0.893197774887085,\n",
       "  0.899689257144928,\n",
       "  0.8995554447174072,\n",
       "  0.8995697498321533,\n",
       "  0.8990249037742615,\n",
       "  0.8999888300895691,\n",
       "  0.8986782431602478,\n",
       "  0.9004031419754028,\n",
       "  0.8997973799705505,\n",
       "  0.9005950689315796,\n",
       "  0.9010255336761475,\n",
       "  0.9010836482048035,\n",
       "  0.9010831713676453,\n",
       "  0.9012946486473083,\n",
       "  0.9009579420089722,\n",
       "  0.9011765122413635,\n",
       "  0.9017613530158997,\n",
       "  0.9008236527442932,\n",
       "  0.9015498757362366,\n",
       "  0.9012898802757263,\n",
       "  0.9014589190483093,\n",
       "  0.9022489786148071,\n",
       "  0.9022247195243835,\n",
       "  0.9026318788528442,\n",
       "  0.9025170803070068,\n",
       "  0.9023318290710449,\n",
       "  0.9026161432266235,\n",
       "  0.9024085402488708,\n",
       "  0.9020994305610657,\n",
       "  0.9023204445838928,\n",
       "  0.9026609063148499,\n",
       "  0.9028719067573547,\n",
       "  0.9020946621894836,\n",
       "  0.902376115322113,\n",
       "  0.90234375,\n",
       "  0.9029585719108582,\n",
       "  0.9025680422782898,\n",
       "  0.9024990200996399,\n",
       "  0.9025014042854309,\n",
       "  0.9024732708930969,\n",
       "  0.9023528099060059]}"
      ]
     },
     "execution_count": 75,
     "metadata": {},
     "output_type": "execute_result"
    }
   ],
   "source": [
    "hist_dict"
   ]
  },
  {
   "cell_type": "code",
   "execution_count": 77,
   "metadata": {},
   "outputs": [],
   "source": [
    "hist_dict_df = pd.DataFrame.from_dict(hist_dict)"
   ]
  },
  {
   "cell_type": "code",
   "execution_count": 79,
   "metadata": {},
   "outputs": [],
   "source": [
    "hist_dict_df.to_csv('hist.csv', index=False)"
   ]
  },
  {
   "cell_type": "code",
   "execution_count": 5,
   "metadata": {},
   "outputs": [
    {
     "data": {
      "text/plain": [
       "'C:\\\\Users\\\\olani\\\\OneDrive\\\\Documents\\\\Data Science\\\\SMU-Data Science\\\\Quantifying the world'"
      ]
     },
     "execution_count": 5,
     "metadata": {},
     "output_type": "execute_result"
    }
   ],
   "source": [
    "import os\n",
    "os.getcwd()"
   ]
  },
  {
   "cell_type": "code",
   "execution_count": 8,
   "metadata": {},
   "outputs": [
    {
     "data": {
      "text/html": [
       "<div>\n",
       "<style scoped>\n",
       "    .dataframe tbody tr th:only-of-type {\n",
       "        vertical-align: middle;\n",
       "    }\n",
       "\n",
       "    .dataframe tbody tr th {\n",
       "        vertical-align: top;\n",
       "    }\n",
       "\n",
       "    .dataframe thead th {\n",
       "        text-align: right;\n",
       "    }\n",
       "</style>\n",
       "<table border=\"1\" class=\"dataframe\">\n",
       "  <thead>\n",
       "    <tr style=\"text-align: right;\">\n",
       "      <th></th>\n",
       "      <th>loss</th>\n",
       "      <th>accuracy</th>\n",
       "      <th>precision</th>\n",
       "      <th>recall</th>\n",
       "    </tr>\n",
       "  </thead>\n",
       "  <tbody>\n",
       "    <tr>\n",
       "      <th>0</th>\n",
       "      <td>0.300294</td>\n",
       "      <td>0.865333</td>\n",
       "      <td>0.846031</td>\n",
       "      <td>0.893198</td>\n",
       "    </tr>\n",
       "    <tr>\n",
       "      <th>1</th>\n",
       "      <td>0.276636</td>\n",
       "      <td>0.874578</td>\n",
       "      <td>0.856649</td>\n",
       "      <td>0.899689</td>\n",
       "    </tr>\n",
       "    <tr>\n",
       "      <th>2</th>\n",
       "      <td>0.273971</td>\n",
       "      <td>0.876161</td>\n",
       "      <td>0.859331</td>\n",
       "      <td>0.899555</td>\n",
       "    </tr>\n",
       "  </tbody>\n",
       "</table>\n",
       "</div>"
      ],
      "text/plain": [
       "       loss  accuracy  precision    recall\n",
       "0  0.300294  0.865333   0.846031  0.893198\n",
       "1  0.276636  0.874578   0.856649  0.899689\n",
       "2  0.273971  0.876161   0.859331  0.899555"
      ]
     },
     "execution_count": 8,
     "metadata": {},
     "output_type": "execute_result"
    }
   ],
   "source": [
    "import pandas as pd\n",
    "path = r\"./hist.csv\"\n",
    "# load the csv file as a dataframe\n",
    "history = pd.read_csv(path)\n",
    "# store the inputs and outputs\n",
    "history.head(n=3)\n",
    "#Train test split"
   ]
  },
  {
   "cell_type": "code",
   "execution_count": 13,
   "metadata": {},
   "outputs": [
    {
     "data": {
      "text/plain": [
       "Text(0.5, 0, 'epoch')"
      ]
     },
     "execution_count": 13,
     "metadata": {},
     "output_type": "execute_result"
    },
    {
     "data": {
      "image/png": "[encoded data removed]",
      "text/plain": [
       "<Figure size 432x288 with 1 Axes>"
      ]
     },
     "metadata": {
      "needs_background": "light"
     },
     "output_type": "display_data"
    }
   ],
   "source": [
    "import matplotlib.pyplot as plt\n",
    "\n",
    "plt.plot(history['accuracy'])\n",
    "plt.plot(history['precision'])\n",
    "plt.plot(history['recall'])\n",
    "plt.title('Train set_ model accuracy')\n",
    "plt.ylabel('accuracy')\n",
    "plt.xlabel('epoch')"
   ]
  },
  {
   "cell_type": "code",
   "execution_count": 12,
   "metadata": {},
   "outputs": [
    {
     "data": {
      "text/plain": [
       "Text(0.5, 0, 'epoch')"
      ]
     },
     "execution_count": 12,
     "metadata": {},
     "output_type": "execute_result"
    },
    {
     "data": {
      "image/png": "[encoded data removed]",
      "text/plain": [
       "<Figure size 432x288 with 1 Axes>"
      ]
     },
     "metadata": {
      "needs_background": "light"
     },
     "output_type": "display_data"
    }
   ],
   "source": [
    "plt.plot(history['loss'])\n",
    "plt.title('Train set_ model loss')\n",
    "plt.ylabel('loss')\n",
    "plt.xlabel('epoch')"
   ]
  },
  {
   "cell_type": "markdown",
   "metadata": {},
   "source": [
    "## We forgot to save the validation metrics.  \n",
    "- These can be viewed in the model training progress.  \n",
    "- Regardless:\n",
    "    - We can see that the greatest loss minimiation occurred before the 4th epoch and the accuracy, precision and recall likewise have the greatest maximization before the 4 th epoch.    \n"
   ]
  },
  {
   "cell_type": "code",
   "execution_count": null,
   "metadata": {},
   "outputs": [],
   "source": []
  },
  {
   "cell_type": "code",
   "execution_count": null,
   "metadata": {},
   "outputs": [],
   "source": []
  },
  {
   "cell_type": "code",
   "execution_count": null,
   "metadata": {},
   "outputs": [],
   "source": []
  },
  {
   "cell_type": "code",
   "execution_count": null,
   "metadata": {},
   "outputs": [],
   "source": []
  },
  {
   "cell_type": "code",
   "execution_count": null,
   "metadata": {},
   "outputs": [],
   "source": []
  },
  {
   "cell_type": "code",
   "execution_count": null,
   "metadata": {},
   "outputs": [],
   "source": []
  },
  {
   "cell_type": "code",
   "execution_count": null,
   "metadata": {},
   "outputs": [],
   "source": []
  },
  {
   "cell_type": "code",
   "execution_count": null,
   "metadata": {},
   "outputs": [],
   "source": []
  },
  {
   "cell_type": "code",
   "execution_count": null,
   "metadata": {},
   "outputs": [],
   "source": []
  }
 ],
 "metadata": {
  "kernelspec": {
   "display_name": "Python 3",
   "language": "python",
   "name": "python3"
  },
  "language_info": {
   "codemirror_mode": {
    "name": "ipython",
    "version": 3
   },
   "file_extension": ".py",
   "mimetype": "text/x-python",
   "name": "python",
   "nbconvert_exporter": "python",
   "pygments_lexer": "ipython3",
   "version": "3.7.10"
  }
 },
 "nbformat": 4,
 "nbformat_minor": 4
}
